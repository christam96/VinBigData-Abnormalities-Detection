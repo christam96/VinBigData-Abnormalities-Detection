{
  "nbformat": 4,
  "nbformat_minor": 0,
  "metadata": {
    "colab": {
      "name": "datasetDownloader.ipynb",
      "provenance": [],
      "collapsed_sections": [
        "5Y8-SjxDPDXT",
        "R_TuFEoSO6ex"
      ],
      "toc_visible": true,
      "include_colab_link": true
    },
    "kernelspec": {
      "display_name": "Python 3",
      "name": "python3"
    }
  },
  "cells": [
    {
      "cell_type": "markdown",
      "metadata": {
        "id": "view-in-github",
        "colab_type": "text"
      },
      "source": [
        "<a href=\"https://colab.research.google.com/github/christam96/VinBigData-Abnormalities-Detection/blob/master/Colab%20and%20Kaggle/datasetDownloader.ipynb\" target=\"_parent\"><img src=\"https://colab.research.google.com/assets/colab-badge.svg\" alt=\"Open In Colab\"/></a>"
      ]
    },
    {
      "cell_type": "markdown",
      "metadata": {
        "id": "8ejwULHL0boL"
      },
      "source": [
        "# Kaggle API setup"
      ]
    },
    {
      "cell_type": "markdown",
      "metadata": {
        "id": "bM1G2laMQAdk"
      },
      "source": [
        "## follow this [link](https://www.kaggle.com/general/74235) for the tutorial on how to link Colab and Kaggle\n",
        "\n",
        "## kaggle API documentation [link](https://github.com/Kaggle/kaggle-api)\n",
        "\n",
        "## [link](https://storage.googleapis.com/kaggle-data-sets/1042002/1794153/compressed/train.zip?GoogleAccessId=web-data@kaggle-161607.iam.gserviceaccount.com&Expires=1615524282&Signature=Bi9bfnT5Lh%2BRcrivDkr8RsbslpajTlhLiCxtoSuzgJGq9Lt2S7dmo8HHyc%2BDJ6ULruiKs%2BjzsU8A18hOzhONp6Oj23H3vUoDGBuvAEKFg9BJ35sA3NB5T6W9W%2FXl%2B1Ol6nDY6nVoqprYylva%2FTbdLHNNzhVU1rWYHAFIjzVPkbmB5EkE69JOzt7zqjm3pbZgGZphjwTttNx8M9gODl8Gc4D%2BWM9nsOClBrUe9iyMyQV3xFsIgk%2FWr%2BeXiFfSOoPzBSZwuQvzPJYJM6yYo9p9gf7%2FPzui2vxZluqaSLO1ZHmqzvZTCEfHcravKjGaXgYWzzfSsdj9KtEH6oOJ7h213A%3D%3D&response-content-disposition=attachment%3B+filename%3Dtrain.zip) to download train set\n"
      ]
    },
    {
      "cell_type": "code",
      "metadata": {
        "colab": {
          "resources": {
            "http://localhost:8080/nbextensions/google.colab/files.js": {
              "data": "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",
              "ok": true,
              "headers": [
                [
                  "content-type",
                  "application/javascript"
                ]
              ],
              "status": 200,
              "status_text": ""
            }
          },
          "base_uri": "https://localhost:8080/",
          "height": 620
        },
        "id": "RPr1lbF4t-o3",
        "outputId": "f0142807-515c-42fa-e0a7-4951b56692d2"
      },
      "source": [
        "!pip uninstall -y kaggle\n",
        "!pip install --upgrade pip\n",
        "!pip install kaggle==1.5.6\n",
        "from google.colab import files\n",
        "files.upload()\n"
      ],
      "execution_count": 2,
      "outputs": [
        {
          "output_type": "stream",
          "text": [
            "Uninstalling kaggle-1.5.10:\n",
            "  Successfully uninstalled kaggle-1.5.10\n",
            "Collecting pip\n",
            "\u001b[?25l  Downloading https://files.pythonhosted.org/packages/fe/ef/60d7ba03b5c442309ef42e7d69959f73aacccd0d86008362a681c4698e83/pip-21.0.1-py3-none-any.whl (1.5MB)\n",
            "\u001b[K     |████████████████████████████████| 1.5MB 5.4MB/s \n",
            "\u001b[?25hInstalling collected packages: pip\n",
            "  Found existing installation: pip 19.3.1\n",
            "    Uninstalling pip-19.3.1:\n",
            "      Successfully uninstalled pip-19.3.1\n",
            "Successfully installed pip-21.0.1\n",
            "Collecting kaggle==1.5.6\n",
            "  Downloading kaggle-1.5.6.tar.gz (58 kB)\n",
            "\u001b[K     |████████████████████████████████| 58 kB 2.4 MB/s \n",
            "\u001b[?25hRequirement already satisfied: urllib3<1.25,>=1.21.1 in /usr/local/lib/python3.7/dist-packages (from kaggle==1.5.6) (1.24.3)\n",
            "Requirement already satisfied: six>=1.10 in /usr/local/lib/python3.7/dist-packages (from kaggle==1.5.6) (1.15.0)\n",
            "Requirement already satisfied: certifi in /usr/local/lib/python3.7/dist-packages (from kaggle==1.5.6) (2020.12.5)\n",
            "Requirement already satisfied: python-dateutil in /usr/local/lib/python3.7/dist-packages (from kaggle==1.5.6) (2.8.1)\n",
            "Requirement already satisfied: requests in /usr/local/lib/python3.7/dist-packages (from kaggle==1.5.6) (2.23.0)\n",
            "Requirement already satisfied: tqdm in /usr/local/lib/python3.7/dist-packages (from kaggle==1.5.6) (4.41.1)\n",
            "Requirement already satisfied: python-slugify in /usr/local/lib/python3.7/dist-packages (from kaggle==1.5.6) (4.0.1)\n",
            "Requirement already satisfied: text-unidecode>=1.3 in /usr/local/lib/python3.7/dist-packages (from python-slugify->kaggle==1.5.6) (1.3)\n",
            "Requirement already satisfied: chardet<4,>=3.0.2 in /usr/local/lib/python3.7/dist-packages (from requests->kaggle==1.5.6) (3.0.4)\n",
            "Requirement already satisfied: idna<3,>=2.5 in /usr/local/lib/python3.7/dist-packages (from requests->kaggle==1.5.6) (2.10)\n",
            "Building wheels for collected packages: kaggle\n",
            "  Building wheel for kaggle (setup.py) ... \u001b[?25l\u001b[?25hdone\n",
            "  Created wheel for kaggle: filename=kaggle-1.5.6-py3-none-any.whl size=72859 sha256=f8a8acf1cd1f0beaafa3f9ec9317f506959023b2ca0bc0d87761a2771fb0aa98\n",
            "  Stored in directory: /root/.cache/pip/wheels/aa/e7/e7/eb3c3d514c33294d77ddd5a856bdd58dc9c1fabbed59a02a2b\n",
            "Successfully built kaggle\n",
            "Installing collected packages: kaggle\n",
            "Successfully installed kaggle-1.5.6\n"
          ],
          "name": "stdout"
        },
        {
          "output_type": "display_data",
          "data": {
            "text/html": [
              "\n",
              "     <input type=\"file\" id=\"files-052ccfd4-c285-478e-8639-0f1a420b4bf0\" name=\"files[]\" multiple disabled\n",
              "        style=\"border:none\" />\n",
              "     <output id=\"result-052ccfd4-c285-478e-8639-0f1a420b4bf0\">\n",
              "      Upload widget is only available when the cell has been executed in the\n",
              "      current browser session. Please rerun this cell to enable.\n",
              "      </output>\n",
              "      <script src=\"/nbextensions/google.colab/files.js\"></script> "
            ],
            "text/plain": [
              "<IPython.core.display.HTML object>"
            ]
          },
          "metadata": {
            "tags": []
          }
        },
        {
          "output_type": "stream",
          "text": [
            "Saving kaggle.json to kaggle.json\n"
          ],
          "name": "stdout"
        },
        {
          "output_type": "execute_result",
          "data": {
            "text/plain": [
              "{'kaggle.json': b'{\"username\":\"pachkouski\",\"key\":\"89a8f5f57e5f85d6d908ffe0c60cf58f\"}'}"
            ]
          },
          "metadata": {
            "tags": []
          },
          "execution_count": 2
        }
      ]
    },
    {
      "cell_type": "code",
      "metadata": {
        "id": "KpF92KH_pmBR"
      },
      "source": [
        "!rm -rf ~/.kaggle\n",
        "!mkdir ~/.kaggle\n",
        "!mv kaggle.json ~/.kaggle/\n",
        "!chmod 600 ~/.kaggle/kaggle.json"
      ],
      "execution_count": 3,
      "outputs": []
    },
    {
      "cell_type": "markdown",
      "metadata": {
        "id": "TSWWmWZ503-N"
      },
      "source": [
        "## Test"
      ]
    },
    {
      "cell_type": "markdown",
      "metadata": {
        "id": "5Y8-SjxDPDXT"
      },
      "source": [
        "### list all files"
      ]
    },
    {
      "cell_type": "code",
      "metadata": {
        "colab": {
          "base_uri": "https://localhost:8080/"
        },
        "id": "0jQphv60HLCy",
        "outputId": "3e09bc3b-5036-4e00-c02e-631a8448b0aa"
      },
      "source": [
        "!kaggle competitions files -c vinbigdata-chest-xray-abnormalities-detection"
      ],
      "execution_count": null,
      "outputs": [
        {
          "output_type": "stream",
          "text": [
            "Warning: Looks like you're using an outdated API Version, please consider updating (server 1.5.10 / client 1.5.6)\n",
            "name                                           size  creationDate         \n",
            "--------------------------------------------  -----  -------------------  \n",
            "train/005be26a68485912e007a3703f43d60a.dicom    8MB  2020-12-29 20:31:16  \n",
            "train/00150343289f317a0ad5629d5b7d9ef9.dicom   12MB  2020-12-29 20:31:16  \n",
            "train/004dc2a50591fb5f1aaf012bffa95fd9.dicom    9MB  2020-12-29 20:31:16  \n",
            "train/003cfe5ce5c0ec5163138eb3b740e328.dicom    9MB  2020-12-29 20:31:16  \n",
            "train/00575e3846ebd05a909d97ba59c53d30.dicom   12MB  2020-12-29 20:31:16  \n",
            "train/0032c6091dc8f1b1245fc2f5f45458fa.dicom    6MB  2020-12-29 20:31:16  \n",
            "train/001d127bad87592efe45a5c7678f8b8d.dicom   18MB  2020-12-29 20:31:16  \n",
            "train/000ae00eb3942d27e0b97903dd563a6e.dicom   18MB  2020-12-29 20:31:16  \n",
            "train/0006e0a85696f6bb578e84fafa9a5607.dicom    8MB  2020-12-29 20:31:16  \n",
            "train/000d68e42b71d3eac10ccc077aba07c1.dicom    6MB  2020-12-29 20:31:16  \n",
            "train/0059d21bef1793fa9522e4ec8cae1a1a.dicom    9MB  2020-12-29 20:31:16  \n",
            "train/004d2bc2111d639f5e8441ced52d55cb.dicom    5MB  2020-12-29 20:31:16  \n",
            "train/0021df30f3fddef551eb3df4354b1d06.dicom   18MB  2020-12-29 20:31:16  \n",
            "train/00053190460d56c53cc3e57321387478.dicom    9MB  2020-12-29 20:31:16  \n",
            "train/0005e8e3701dfb1dd93d53e2ff537b6e.dicom   18MB  2020-12-29 20:31:16  \n",
            "train/000434271f63a053c4128a0ba6352c7f.dicom   13MB  2020-12-29 20:31:16  \n",
            "train/00176f7e1b1cb835123f95960b9a9efd.dicom   16MB  2020-12-29 20:31:16  \n",
            "train/0046f681f078851293c4e710c4466058.dicom    6MB  2020-12-29 20:31:16  \n",
            "train/0007d316f756b3fa0baea2ff514ce945.dicom   13MB  2020-12-29 20:31:16  \n",
            "train/00291f7aff0123ea76a59998effef229.dicom   18MB  2020-12-29 20:31:16  \n",
            "test/022a62478444fedf2dea1ba91aafdc48.dicom    18MB  2020-12-29 20:31:16  \n",
            "test/0171021638f9272a34a41feb84ed47a0.dicom    18MB  2020-12-29 20:31:16  \n",
            "test/01f8f17dba6c5e67ba5bcf30ce70ea3f.dicom     8MB  2020-12-29 20:31:16  \n",
            "test/01eb30a37b6f5fed8a8d3ab2d1c0a7d6.dicom     5MB  2020-12-29 20:31:16  \n",
            "test/011295e0bcdc7636569ab73bfdcc4450.dicom     9MB  2020-12-29 20:31:16  \n",
            "test/004f33259ee4aef671c2b95d54e4be68.dicom     6MB  2020-12-29 20:31:16  \n",
            "test/01431a2618c0ace741e4e270a37e20b9.dicom     6MB  2020-12-29 20:31:16  \n",
            "test/024e693014e70d448f650267bed661ae.dicom     6MB  2020-12-29 20:31:16  \n",
            "test/009bc039326338823ca3aa84381f17f1.dicom     9MB  2020-12-29 20:31:16  \n",
            "test/02199417ff2a400cff64249f0399f0d7.dicom    16MB  2020-12-29 20:31:16  \n",
            "test/00a2145de1886cb9eb88869c85d74080.dicom     5MB  2020-12-29 20:31:16  \n",
            "test/0168eb925aa6f28a78b16134792f5d0e.dicom    13MB  2020-12-29 20:31:16  \n",
            "test/002a34c58c5b758217ed1f584ccbcfe9.dicom     7MB  2020-12-29 20:31:16  \n",
            "test/008bdde2af2462e86fd373a445d0f4cd.dicom    13MB  2020-12-29 20:31:16  \n",
            "test/02425334e92510da663eb913ad0632ea.dicom    18MB  2020-12-29 20:31:16  \n",
            "test/00b7e6bfa4dc1fe9ddd0ce74743e38c2.dicom     8MB  2020-12-29 20:31:16  \n",
            "test/01ded16689539deb30d0981fafd18465.dicom     6MB  2020-12-29 20:31:16  \n",
            "test/013c169f9dad6f1f6485da961b9f7bf2.dicom    13MB  2020-12-29 20:31:16  \n",
            "test/016bc723c3ceedb78e27ebfe7032498e.dicom     9MB  2020-12-29 20:31:16  \n",
            "test/019df578e38053e614d483f7fb347b26.dicom    16MB  2020-12-29 20:31:16  \n",
            "sample_submission.csv                         135KB  2020-12-29 20:31:16  \n",
            "train.csv                                       4MB  2020-12-29 20:31:16  \n"
          ],
          "name": "stdout"
        }
      ]
    },
    {
      "cell_type": "markdown",
      "metadata": {
        "id": "R_TuFEoSO6ex"
      },
      "source": [
        "### download a specific file"
      ]
    },
    {
      "cell_type": "code",
      "metadata": {
        "colab": {
          "base_uri": "https://localhost:8080/"
        },
        "id": "J0sIFnWCGqQu",
        "outputId": "1cf3ce13-c097-4fdf-d9e6-fc188d7e4258"
      },
      "source": [
        "!kaggle competitions download -c vinbigdata-chest-xray-abnormalities-detection -f train/032c81fae916e932002387494a7d7c7b.dicom"
      ],
      "execution_count": null,
      "outputs": [
        {
          "output_type": "stream",
          "text": [
            "User cancelled operation\n",
            "Error in atexit._run_exitfuncs:\n",
            "Traceback (most recent call last):\n",
            "  File \"/usr/lib/python3.7/multiprocessing/util.py\", line 300, in _run_finalizers\n",
            "    finalizer()\n",
            "  File \"/usr/lib/python3.7/multiprocessing/util.py\", line 224, in __call__\n",
            "    res = self._callback(*self._args, **self._kwargs)\n",
            "  File \"/usr/lib/python3.7/multiprocessing/pool.py\", line 594, in _terminate_pool\n",
            "    worker_handler.join()\n",
            "  File \"/usr/lib/python3.7/threading.py\", line 1044, in join\n",
            "    self._wait_for_tstate_lock()\n",
            "  File \"/usr/lib/python3.7/threading.py\", line 1060, in _wait_for_tstate_lock\n",
            "    elif lock.acquire(block, timeout):\n",
            "KeyboardInterrupt\n"
          ],
          "name": "stdout"
        }
      ]
    },
    {
      "cell_type": "markdown",
      "metadata": {
        "id": "Ef1nLOM40jbM"
      },
      "source": [
        "# Download dataset to Google Drive"
      ]
    },
    {
      "cell_type": "markdown",
      "metadata": {
        "id": "Q53RuCRAuYE4"
      },
      "source": [
        "## first approach – download kaggle dataset with inline bash commands + kaggle API (not successfull, I/O kaggle's rate gets exceeded)"
      ]
    },
    {
      "cell_type": "code",
      "metadata": {
        "id": "DEmSw5RAy6B3"
      },
      "source": [
        "import subprocess\n",
        "import time as t\n",
        "def downloadFiles(fileNames, dstPath, srcPath=\"\"):\n",
        "  for i in range(len(fileNames)):\n",
        "    srcFile = srcPath + fileNames[i] + \".dicom\"\n",
        "    bashCommand = \"kaggle competitions download -c vinbigdata-chest-xray-abnormalities-detection -f \" +\\\n",
        "                  srcFile + \" -p \" + dstPath\n",
        "    print(\"here\")              \n",
        "    process = subprocess.Popen(bashCommand.split(), stdout=subprocess.PIPE)\n",
        "    output, error = process.communicate()\n",
        "    print(bashCommand)\n",
        "    print(output, error)\n",
        "    print(\"Image number {}/{}\".format(i,len(fileNames)))\n",
        "    print(\"-\"*10)\n",
        "    bashCommand = \"unzip \" + dstPath + fileNames[i] + \".dicom.zip \" +\\\n",
        "                  \"-d \" + dstPath\n",
        "    process = subprocess.Popen(bashCommand.split(), stdout=subprocess.PIPE)\n",
        "    output, error = process.communicate()    \n",
        "    print(output, error)        \n",
        "    bashCommand = \"rm \" + dstPath + fileNames[i] + \".dicom.zip\"  \n",
        "    process = subprocess.Popen(bashCommand.split(), stdout=subprocess.PIPE)\n",
        "    output, error = process.communicate() \n",
        "    print(output, error)\n",
        "    t.sleep(2)"
      ],
      "execution_count": null,
      "outputs": []
    },
    {
      "cell_type": "markdown",
      "metadata": {
        "id": "YzzLqfFlvT5D"
      },
      "source": [
        "### Mount gdrive"
      ]
    },
    {
      "cell_type": "code",
      "metadata": {
        "colab": {
          "base_uri": "https://localhost:8080/"
        },
        "id": "tkQKOsV3yxSG",
        "outputId": "a12b037a-5418-4198-9b26-bbbfeef4930b"
      },
      "source": [
        "from google.colab import drive\n",
        "drive.mount('/content/gdrive')"
      ],
      "execution_count": 1,
      "outputs": [
        {
          "output_type": "stream",
          "text": [
            "Go to this URL in a browser: https://accounts.google.com/o/oauth2/auth?client_id=947318989803-6bn6qk8qdgf4n4g3pfee6491hc0brc4i.apps.googleusercontent.com&redirect_uri=urn%3aietf%3awg%3aoauth%3a2.0%3aoob&scope=email%20https%3a%2f%2fwww.googleapis.com%2fauth%2fdocs.test%20https%3a%2f%2fwww.googleapis.com%2fauth%2fdrive%20https%3a%2f%2fwww.googleapis.com%2fauth%2fdrive.photos.readonly%20https%3a%2f%2fwww.googleapis.com%2fauth%2fpeopleapi.readonly%20https%3a%2f%2fwww.googleapis.com%2fauth%2fdrive.activity.readonly%20https%3a%2f%2fwww.googleapis.com%2fauth%2fphotos.native&response_type=code\n",
            "\n",
            "Enter your authorization code:\n",
            "4/1AY0e-g6v6FLFVxllPAQJfCHJiTewfU92W573PD7LSWw6pSrbe0dX7L0WZ2w\n",
            "Mounted at /content/gdrive\n"
          ],
          "name": "stdout"
        }
      ]
    },
    {
      "cell_type": "markdown",
      "metadata": {
        "id": "xlJkSmg-vBFb"
      },
      "source": [
        "### download train.csv"
      ]
    },
    {
      "cell_type": "code",
      "metadata": {
        "colab": {
          "base_uri": "https://localhost:8080/"
        },
        "id": "an2WWXJCzVY1",
        "outputId": "68a2e6e9-4e46-41df-81d0-37313dc0acfb"
      },
      "source": [
        "!kaggle competitions download vinbigdata-chest-xray-abnormalities-detection -f train.csv\n",
        "!unzip train.csv.zip\n",
        "!rm train.csv.zip"
      ],
      "execution_count": 17,
      "outputs": [
        {
          "output_type": "stream",
          "text": [
            "Downloading train.csv.zip to /content\n",
            "\r  0% 0.00/1.79M [00:00<?, ?B/s]\n",
            "\r100% 1.79M/1.79M [00:00<00:00, 208MB/s]\n"
          ],
          "name": "stdout"
        }
      ]
    },
    {
      "cell_type": "markdown",
      "metadata": {
        "id": "Bd4Clq72vFB3"
      },
      "source": [
        "### create df"
      ]
    },
    {
      "cell_type": "code",
      "metadata": {
        "colab": {
          "base_uri": "https://localhost:8080/",
          "height": 204
        },
        "id": "iYpQR5uazNCU",
        "outputId": "5aa62190-d472-40c0-b631-882069ab092f"
      },
      "source": [
        "import pandas as pd\n",
        "\n",
        "train_df = pd.read_csv(\"train.csv\")\n",
        "train_df.head()"
      ],
      "execution_count": 19,
      "outputs": [
        {
          "output_type": "execute_result",
          "data": {
            "text/html": [
              "<div>\n",
              "<style scoped>\n",
              "    .dataframe tbody tr th:only-of-type {\n",
              "        vertical-align: middle;\n",
              "    }\n",
              "\n",
              "    .dataframe tbody tr th {\n",
              "        vertical-align: top;\n",
              "    }\n",
              "\n",
              "    .dataframe thead th {\n",
              "        text-align: right;\n",
              "    }\n",
              "</style>\n",
              "<table border=\"1\" class=\"dataframe\">\n",
              "  <thead>\n",
              "    <tr style=\"text-align: right;\">\n",
              "      <th></th>\n",
              "      <th>image_id</th>\n",
              "      <th>class_name</th>\n",
              "      <th>class_id</th>\n",
              "      <th>rad_id</th>\n",
              "      <th>x_min</th>\n",
              "      <th>y_min</th>\n",
              "      <th>x_max</th>\n",
              "      <th>y_max</th>\n",
              "    </tr>\n",
              "  </thead>\n",
              "  <tbody>\n",
              "    <tr>\n",
              "      <th>0</th>\n",
              "      <td>50a418190bc3fb1ef1633bf9678929b3</td>\n",
              "      <td>No finding</td>\n",
              "      <td>14</td>\n",
              "      <td>R11</td>\n",
              "      <td>NaN</td>\n",
              "      <td>NaN</td>\n",
              "      <td>NaN</td>\n",
              "      <td>NaN</td>\n",
              "    </tr>\n",
              "    <tr>\n",
              "      <th>1</th>\n",
              "      <td>21a10246a5ec7af151081d0cd6d65dc9</td>\n",
              "      <td>No finding</td>\n",
              "      <td>14</td>\n",
              "      <td>R7</td>\n",
              "      <td>NaN</td>\n",
              "      <td>NaN</td>\n",
              "      <td>NaN</td>\n",
              "      <td>NaN</td>\n",
              "    </tr>\n",
              "    <tr>\n",
              "      <th>2</th>\n",
              "      <td>9a5094b2563a1ef3ff50dc5c7ff71345</td>\n",
              "      <td>Cardiomegaly</td>\n",
              "      <td>3</td>\n",
              "      <td>R10</td>\n",
              "      <td>691.0</td>\n",
              "      <td>1375.0</td>\n",
              "      <td>1653.0</td>\n",
              "      <td>1831.0</td>\n",
              "    </tr>\n",
              "    <tr>\n",
              "      <th>3</th>\n",
              "      <td>051132a778e61a86eb147c7c6f564dfe</td>\n",
              "      <td>Aortic enlargement</td>\n",
              "      <td>0</td>\n",
              "      <td>R10</td>\n",
              "      <td>1264.0</td>\n",
              "      <td>743.0</td>\n",
              "      <td>1611.0</td>\n",
              "      <td>1019.0</td>\n",
              "    </tr>\n",
              "    <tr>\n",
              "      <th>4</th>\n",
              "      <td>063319de25ce7edb9b1c6b8881290140</td>\n",
              "      <td>No finding</td>\n",
              "      <td>14</td>\n",
              "      <td>R10</td>\n",
              "      <td>NaN</td>\n",
              "      <td>NaN</td>\n",
              "      <td>NaN</td>\n",
              "      <td>NaN</td>\n",
              "    </tr>\n",
              "  </tbody>\n",
              "</table>\n",
              "</div>"
            ],
            "text/plain": [
              "                           image_id          class_name  ...   x_max   y_max\n",
              "0  50a418190bc3fb1ef1633bf9678929b3          No finding  ...     NaN     NaN\n",
              "1  21a10246a5ec7af151081d0cd6d65dc9          No finding  ...     NaN     NaN\n",
              "2  9a5094b2563a1ef3ff50dc5c7ff71345        Cardiomegaly  ...  1653.0  1831.0\n",
              "3  051132a778e61a86eb147c7c6f564dfe  Aortic enlargement  ...  1611.0  1019.0\n",
              "4  063319de25ce7edb9b1c6b8881290140          No finding  ...     NaN     NaN\n",
              "\n",
              "[5 rows x 8 columns]"
            ]
          },
          "metadata": {
            "tags": []
          },
          "execution_count": 19
        }
      ]
    },
    {
      "cell_type": "markdown",
      "metadata": {
        "id": "tA6YACmMvdbE"
      },
      "source": [
        "### finally, download images"
      ]
    },
    {
      "cell_type": "code",
      "metadata": {
        "id": "OIi7IxR6zF19"
      },
      "source": [
        "imageNames = train_df.image_id.unique()\n",
        "partOfImageFilenames1 = imageNames[0:7000]\n",
        "partOfImageFilenames2 = imageNames[7000:]\n",
        "destinationPath = \"./drive/MyDrive/VinBigData/train/\"\n",
        "srcPath = \"train/\"\n",
        "downloadFiles(partOfImageFilenames1, destinationPath, srcPath)"
      ],
      "execution_count": null,
      "outputs": []
    },
    {
      "cell_type": "markdown",
      "metadata": {
        "id": "C43VBg_BvwRx"
      },
      "source": [
        "## second approach – download .zip dataset fully to drive (not successful, Colab buffers data before loading to gdrive)"
      ]
    },
    {
      "cell_type": "markdown",
      "metadata": {
        "id": "uubHZUcvwU6u"
      },
      "source": [
        "### kaggle API"
      ]
    },
    {
      "cell_type": "code",
      "metadata": {
        "colab": {
          "base_uri": "https://localhost:8080/"
        },
        "id": "_vFfhdc_uzoG",
        "outputId": "d812d574-0243-4627-d920-4d4a94227603"
      },
      "source": [
        "!kaggle competitions download -c vinbigdata-chest-xray-abnormalities-detection -p /content/gdrive/MyDrive/VinBigData/"
      ],
      "execution_count": null,
      "outputs": [
        {
          "output_type": "stream",
          "text": [
            "Downloading vinbigdata-chest-xray-abnormalities-detection.zip to /content/gdrive/MyDrive/VinBigData\n",
            "  2% 2.85G/142G [00:46<37:27, 66.3MB/s]  \n",
            "User cancelled operation\n"
          ],
          "name": "stdout"
        }
      ]
    },
    {
      "cell_type": "markdown",
      "metadata": {
        "id": "SceD0hZNwYlB"
      },
      "source": [
        "### curl download"
      ]
    },
    {
      "cell_type": "code",
      "metadata": {
        "colab": {
          "base_uri": "https://localhost:8080/"
        },
        "id": "N9nz9gnPbQts",
        "outputId": "da29735b-7ccd-4a85-8472-04d7b1bfb8dc"
      },
      "source": [
        "!curl \"https://storage.googleapis.com/kaggle-data-sets/1042002/1794153/compressed/train.zip?GoogleAccessId=web-data@kaggle-161607.iam.gserviceaccount.com&Expires=1615524282&Signature=Bi9bfnT5Lh%2BRcrivDkr8RsbslpajTlhLiCxtoSuzgJGq9Lt2S7dmo8HHyc%2BDJ6ULruiKs%2BjzsU8A18hOzhONp6Oj23H3vUoDGBuvAEKFg9BJ35sA3NB5T6W9W%2FXl%2B1Ol6nDY6nVoqprYylva%2FTbdLHNNzhVU1rWYHAFIjzVPkbmB5EkE69JOzt7zqjm3pbZgGZphjwTttNx8M9gODl8Gc4D%2BWM9nsOClBrUe9iyMyQV3xFsIgk%2FWr%2BeXiFfSOoPzBSZwuQvzPJYJM6yYo9p9gf7%2FPzui2vxZluqaSLO1ZHmqzvZTCEfHcravKjGaXgYWzzfSsdj9KtEH6oOJ7h213A%3D%3D&response-content-disposition=attachment%3B+filename%3Dtrain.zip\"  --output 1.zip "
      ],
      "execution_count": null,
      "outputs": [
        {
          "output_type": "stream",
          "text": [
            "  % Total    % Received % Xferd  Average Speed   Time    Time     Time  Current\n",
            "                                 Dload  Upload   Total   Spent    Left  Speed\n",
            "  0  118G    0  223M    0     0   103M      0  0:19:31  0:00:02  0:19:29  103M^C\n"
          ],
          "name": "stdout"
        }
      ]
    },
    {
      "cell_type": "markdown",
      "metadata": {
        "id": "4b2sHC4kwnj4"
      },
      "source": [
        "## third approach – download tiny (1G) splits of enormous .zip file, and then fix .zip splits, iteratively extract them and replace broken data (successsfull)\n",
        "- run bashDownloader.sh, it will call bashGenerator.py and download tiny splits of .zip file\n",
        "- run bashUnzipper.sh, it will fix broken archives \n",
        "- run cell to find and replace broken data "
      ]
    },
    {
      "cell_type": "code",
      "metadata": {
        "id": "MNbpvgM7gRix",
        "colab": {
          "base_uri": "https://localhost:8080/"
        },
        "outputId": "572100a0-5055-421c-9855-55b0527f1245"
      },
      "source": [
        "!bash /content/bashDownloader.sh"
      ],
      "execution_count": null,
      "outputs": [
        {
          "output_type": "stream",
          "text": [
            "  % Total    % Received % Xferd  Average Speed   Time    Time     Time  Current\n",
            "                                 Dload  Upload   Total   Spent    Left  Speed\n",
            "100 18.6G  100 18.6G    0     0  50.0M      0  0:06:21  0:06:21 --:--:-- 51.6M\n",
            "  % Total    % Received % Xferd  Average Speed   Time    Time     Time  Current\n",
            "                                 Dload  Upload   Total   Spent    Left  Speed\n",
            "100 18.6G  100 18.6G    0     0  29.4M      0  0:10:47  0:10:47 --:--:-- 53.9M\n",
            "  % Total    % Received % Xferd  Average Speed   Time    Time     Time  Current\n",
            "                                 Dload  Upload   Total   Spent    Left  Speed\n",
            "100 18.6G  100 18.6G    0     0  29.5M      0  0:10:45  0:10:45 --:--:-- 54.2M\n",
            "  % Total    % Received % Xferd  Average Speed   Time    Time     Time  Current\n",
            "                                 Dload  Upload   Total   Spent    Left  Speed\n",
            "100 18.6G  100 18.6G    0     0  29.2M      0  0:10:52  0:10:52 --:--:-- 51.5M\n",
            "  % Total    % Received % Xferd  Average Speed   Time    Time     Time  Current\n",
            "                                 Dload  Upload   Total   Spent    Left  Speed\n",
            "100 18.6G  100 18.6G    0     0  30.3M      0  0:10:28  0:10:28 --:--:-- 50.0M\n",
            "  % Total    % Received % Xferd  Average Speed   Time    Time     Time  Current\n",
            "                                 Dload  Upload   Total   Spent    Left  Speed\n",
            "100 25.6G  100 25.6G    0     0  34.4M      0  0:12:42  0:12:42 --:--:-- 44.2M\n",
            "/content/drive/My Drive/VinBigData/train\n"
          ],
          "name": "stdout"
        }
      ]
    },
    {
      "cell_type": "code",
      "metadata": {
        "id": "3ghFWK-0bojf"
      },
      "source": [
        "!yes | bash bashUnzipper.sh"
      ],
      "execution_count": null,
      "outputs": []
    },
    {
      "cell_type": "markdown",
      "metadata": {
        "id": "kXYbM6Tlznlb"
      },
      "source": [
        "## find and fix broken images"
      ]
    },
    {
      "cell_type": "code",
      "metadata": {
        "id": "NGwDL5l2G-vb"
      },
      "source": [
        "!pip install -q pydicom\n",
        "import pydicom as dicom"
      ],
      "execution_count": 20,
      "outputs": []
    },
    {
      "cell_type": "code",
      "metadata": {
        "colab": {
          "base_uri": "https://localhost:8080/"
        },
        "id": "LpGb5sTXLwCO",
        "outputId": "70f3de23-d37f-4158-a6e1-dbcea6126148"
      },
      "source": [
        "!kaggle competitions download vinbigdata-chest-xray-abnormalities-detection -f train.csv\n",
        "!unzip train.csv.zip\n",
        "!rm train.csv.zip"
      ],
      "execution_count": 30,
      "outputs": [
        {
          "output_type": "stream",
          "text": [
            "Downloading train.csv.zip to /content\n",
            "\r  0% 0.00/1.79M [00:00<?, ?B/s]\n",
            "\r100% 1.79M/1.79M [00:00<00:00, 189MB/s]\n",
            "Archive:  train.csv.zip\n",
            "replace train.csv? [y]es, [n]o, [A]ll, [N]one, [r]ename: y\n",
            "  inflating: train.csv               \n"
          ],
          "name": "stdout"
        }
      ]
    },
    {
      "cell_type": "code",
      "metadata": {
        "colab": {
          "base_uri": "https://localhost:8080/",
          "height": 204
        },
        "id": "2dBEMq4gMIdR",
        "outputId": "2e049c10-eeac-48ce-f1d7-08b2c5e3e927"
      },
      "source": [
        "import pandas as pd\n",
        "\n",
        "df = pd.read_csv(\"train.csv\")\n",
        "df.head()"
      ],
      "execution_count": 2,
      "outputs": [
        {
          "output_type": "execute_result",
          "data": {
            "text/html": [
              "<div>\n",
              "<style scoped>\n",
              "    .dataframe tbody tr th:only-of-type {\n",
              "        vertical-align: middle;\n",
              "    }\n",
              "\n",
              "    .dataframe tbody tr th {\n",
              "        vertical-align: top;\n",
              "    }\n",
              "\n",
              "    .dataframe thead th {\n",
              "        text-align: right;\n",
              "    }\n",
              "</style>\n",
              "<table border=\"1\" class=\"dataframe\">\n",
              "  <thead>\n",
              "    <tr style=\"text-align: right;\">\n",
              "      <th></th>\n",
              "      <th>image_id</th>\n",
              "      <th>class_name</th>\n",
              "      <th>class_id</th>\n",
              "      <th>rad_id</th>\n",
              "      <th>x_min</th>\n",
              "      <th>y_min</th>\n",
              "      <th>x_max</th>\n",
              "      <th>y_max</th>\n",
              "    </tr>\n",
              "  </thead>\n",
              "  <tbody>\n",
              "    <tr>\n",
              "      <th>0</th>\n",
              "      <td>50a418190bc3fb1ef1633bf9678929b3</td>\n",
              "      <td>No finding</td>\n",
              "      <td>14</td>\n",
              "      <td>R11</td>\n",
              "      <td>NaN</td>\n",
              "      <td>NaN</td>\n",
              "      <td>NaN</td>\n",
              "      <td>NaN</td>\n",
              "    </tr>\n",
              "    <tr>\n",
              "      <th>1</th>\n",
              "      <td>21a10246a5ec7af151081d0cd6d65dc9</td>\n",
              "      <td>No finding</td>\n",
              "      <td>14</td>\n",
              "      <td>R7</td>\n",
              "      <td>NaN</td>\n",
              "      <td>NaN</td>\n",
              "      <td>NaN</td>\n",
              "      <td>NaN</td>\n",
              "    </tr>\n",
              "    <tr>\n",
              "      <th>2</th>\n",
              "      <td>9a5094b2563a1ef3ff50dc5c7ff71345</td>\n",
              "      <td>Cardiomegaly</td>\n",
              "      <td>3</td>\n",
              "      <td>R10</td>\n",
              "      <td>691.0</td>\n",
              "      <td>1375.0</td>\n",
              "      <td>1653.0</td>\n",
              "      <td>1831.0</td>\n",
              "    </tr>\n",
              "    <tr>\n",
              "      <th>3</th>\n",
              "      <td>051132a778e61a86eb147c7c6f564dfe</td>\n",
              "      <td>Aortic enlargement</td>\n",
              "      <td>0</td>\n",
              "      <td>R10</td>\n",
              "      <td>1264.0</td>\n",
              "      <td>743.0</td>\n",
              "      <td>1611.0</td>\n",
              "      <td>1019.0</td>\n",
              "    </tr>\n",
              "    <tr>\n",
              "      <th>4</th>\n",
              "      <td>063319de25ce7edb9b1c6b8881290140</td>\n",
              "      <td>No finding</td>\n",
              "      <td>14</td>\n",
              "      <td>R10</td>\n",
              "      <td>NaN</td>\n",
              "      <td>NaN</td>\n",
              "      <td>NaN</td>\n",
              "      <td>NaN</td>\n",
              "    </tr>\n",
              "  </tbody>\n",
              "</table>\n",
              "</div>"
            ],
            "text/plain": [
              "                           image_id          class_name  ...   x_max   y_max\n",
              "0  50a418190bc3fb1ef1633bf9678929b3          No finding  ...     NaN     NaN\n",
              "1  21a10246a5ec7af151081d0cd6d65dc9          No finding  ...     NaN     NaN\n",
              "2  9a5094b2563a1ef3ff50dc5c7ff71345        Cardiomegaly  ...  1653.0  1831.0\n",
              "3  051132a778e61a86eb147c7c6f564dfe  Aortic enlargement  ...  1611.0  1019.0\n",
              "4  063319de25ce7edb9b1c6b8881290140          No finding  ...     NaN     NaN\n",
              "\n",
              "[5 rows x 8 columns]"
            ]
          },
          "metadata": {
            "tags": []
          },
          "execution_count": 2
        }
      ]
    },
    {
      "cell_type": "code",
      "metadata": {
        "id": "oVtdm_MuMlKL"
      },
      "source": [
        "import pydicom as dicom\n",
        "import numpy as np\n",
        "\n",
        "import matplotlib.pyplot as plt\n",
        "\n",
        "imgs = df.image_id.unique()+\".dicom\"\n",
        "imgs.shape\n",
        "corruptedImgs = []\n",
        "for i, imgName in enumerate(imgs):\n",
        "  if (i%100==0):\n",
        "    print(\"Current image: {}\".format(i))\n",
        "  try:\n",
        "    ds=dicom.read_file(\"/content/drive/MyDrive/VinBigData/train_data/\"+imgName)\n",
        "    #ds2 = pydicom.filereader.read_file_meta_info(\"/content/drive/MyDrive/VinBigData/train_data/\"+imgName)\n",
        "    #ds.pixel_array\n",
        "    arr = ds.pixel_array\n",
        "    arr[ds.Rows-1, ds.Columns-1]\n",
        "    #print(arr.shape)\n",
        "    #plt.imshow(arr,cmap='gray')\n",
        "    #ds.PixelData\n",
        "    ds.PixelData[-1]\n",
        "  except:\n",
        "    corruptedImgs.append(imgName)\n",
        "    print(\"-\"*30)\n",
        "print(corruptedImgs)\n",
        "np.save(\"/content/drive/MyDrive/VinBigData/corruptedImgs.npy\",np.array(corruptedImgs))"
      ],
      "execution_count": null,
      "outputs": []
    },
    {
      "cell_type": "markdown",
      "metadata": {
        "id": "D44iakj-0UHe"
      },
      "source": [
        "### load file with the names of broken images"
      ]
    },
    {
      "cell_type": "code",
      "metadata": {
        "id": "x2MkZt9EXpi4"
      },
      "source": [
        "corruptedImgs = np.load(\"/content/drive/MyDrive/VinBigData/corruptedImgs.npy\")"
      ],
      "execution_count": 6,
      "outputs": []
    },
    {
      "cell_type": "markdown",
      "metadata": {
        "id": "NuU5sD2riwTY"
      },
      "source": [
        "### fix broken images"
      ]
    },
    {
      "cell_type": "code",
      "metadata": {
        "id": "5nPCSdeKdOCt"
      },
      "source": [
        "!bash bashFixBrokenImgs.sh"
      ],
      "execution_count": null,
      "outputs": []
    },
    {
      "cell_type": "markdown",
      "metadata": {
        "id": "61vEiZcQ0kNy"
      },
      "source": [
        "# OTHER"
      ]
    },
    {
      "cell_type": "code",
      "metadata": {
        "colab": {
          "base_uri": "https://localhost:8080/"
        },
        "id": "xFuKnL6ZUlJ7",
        "outputId": "70c0bc8b-b16b-4ca0-a2b7-c2ee04927c5c"
      },
      "source": [
        "%cd /content/drive/MyDrive/VinBigData/train_data/"
      ],
      "execution_count": null,
      "outputs": [
        {
          "output_type": "stream",
          "text": [
            "/content/drive/MyDrive/VinBigData/train_data\n"
          ],
          "name": "stdout"
        }
      ]
    },
    {
      "cell_type": "markdown",
      "metadata": {
        "id": "0_VRjNFo0ogJ"
      },
      "source": [
        "### count files in the directory"
      ]
    },
    {
      "cell_type": "code",
      "metadata": {
        "colab": {
          "base_uri": "https://localhost:8080/"
        },
        "id": "TJtbxEftfqU1",
        "outputId": "2c7ad3f7-ac1c-4f7c-dad3-c54abddaec28"
      },
      "source": [
        "%cd ./drive/MyDrive/VinBigData/train_data/\n",
        "!ls -F |grep -v / | wc -l"
      ],
      "execution_count": null,
      "outputs": [
        {
          "output_type": "stream",
          "text": [
            "/content/drive/MyDrive/VinBigData/train_data\n",
            "15000\n"
          ],
          "name": "stdout"
        }
      ]
    },
    {
      "cell_type": "markdown",
      "metadata": {
        "id": "H2GSSg430sZz"
      },
      "source": [
        "### split any file"
      ]
    },
    {
      "cell_type": "code",
      "metadata": {
        "id": "E05wSVbnIYTo"
      },
      "source": [
        "!split --bytes=4m img.zip seg"
      ],
      "execution_count": null,
      "outputs": []
    }
  ]
}