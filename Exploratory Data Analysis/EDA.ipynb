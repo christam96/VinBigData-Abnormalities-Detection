{
  "nbformat": 4,
  "nbformat_minor": 5,
  "metadata": {
    "kernelspec": {
      "display_name": "Python 3",
      "language": "python",
      "name": "python3"
    },
    "language_info": {
      "codemirror_mode": {
        "name": "ipython",
        "version": 3
      },
      "file_extension": ".py",
      "mimetype": "text/x-python",
      "name": "python",
      "nbconvert_exporter": "python",
      "pygments_lexer": "ipython3",
      "version": "3.7.9"
    },
    "colab": {
      "name": "EDA.ipynb",
      "provenance": []
    }
  },
  "cells": [
    {
      "cell_type": "code",
      "metadata": {
        "id": "average-martial"
      },
      "source": [
        "##########\n",
        "# Imports\n",
        "##########\n",
        "\n",
        "import pandas as pd\n"
      ],
      "id": "average-martial",
      "execution_count": 1,
      "outputs": []
    },
    {
      "cell_type": "code",
      "metadata": {
        "id": "outstanding-comedy",
        "outputId": "104e2d46-5d6c-4147-ff5e-2b211581f9a3",
        "colab": {
          "base_uri": "https://localhost:8080/",
          "height": 419
        }
      },
      "source": [
        "# Read in train.csv to dataframe\n",
        "train_csv = pd.read_csv('train.csv')\n",
        "train_csv"
      ],
      "id": "outstanding-comedy",
      "execution_count": 3,
      "outputs": [
        {
          "output_type": "execute_result",
          "data": {
            "text/html": [
              "<div>\n",
              "<style scoped>\n",
              "    .dataframe tbody tr th:only-of-type {\n",
              "        vertical-align: middle;\n",
              "    }\n",
              "\n",
              "    .dataframe tbody tr th {\n",
              "        vertical-align: top;\n",
              "    }\n",
              "\n",
              "    .dataframe thead th {\n",
              "        text-align: right;\n",
              "    }\n",
              "</style>\n",
              "<table border=\"1\" class=\"dataframe\">\n",
              "  <thead>\n",
              "    <tr style=\"text-align: right;\">\n",
              "      <th></th>\n",
              "      <th>image_id</th>\n",
              "      <th>class_name</th>\n",
              "      <th>class_id</th>\n",
              "      <th>rad_id</th>\n",
              "      <th>x_min</th>\n",
              "      <th>y_min</th>\n",
              "      <th>x_max</th>\n",
              "      <th>y_max</th>\n",
              "    </tr>\n",
              "  </thead>\n",
              "  <tbody>\n",
              "    <tr>\n",
              "      <th>0</th>\n",
              "      <td>50a418190bc3fb1ef1633bf9678929b3</td>\n",
              "      <td>No finding</td>\n",
              "      <td>14.0</td>\n",
              "      <td>R11</td>\n",
              "      <td>NaN</td>\n",
              "      <td>NaN</td>\n",
              "      <td>NaN</td>\n",
              "      <td>NaN</td>\n",
              "    </tr>\n",
              "    <tr>\n",
              "      <th>1</th>\n",
              "      <td>21a10246a5ec7af151081d0cd6d65dc9</td>\n",
              "      <td>No finding</td>\n",
              "      <td>14.0</td>\n",
              "      <td>R7</td>\n",
              "      <td>NaN</td>\n",
              "      <td>NaN</td>\n",
              "      <td>NaN</td>\n",
              "      <td>NaN</td>\n",
              "    </tr>\n",
              "    <tr>\n",
              "      <th>2</th>\n",
              "      <td>9a5094b2563a1ef3ff50dc5c7ff71345</td>\n",
              "      <td>Cardiomegaly</td>\n",
              "      <td>3.0</td>\n",
              "      <td>R10</td>\n",
              "      <td>691.0</td>\n",
              "      <td>1375.0</td>\n",
              "      <td>1653.0</td>\n",
              "      <td>1831.0</td>\n",
              "    </tr>\n",
              "    <tr>\n",
              "      <th>3</th>\n",
              "      <td>051132a778e61a86eb147c7c6f564dfe</td>\n",
              "      <td>Aortic enlargement</td>\n",
              "      <td>0.0</td>\n",
              "      <td>R10</td>\n",
              "      <td>1264.0</td>\n",
              "      <td>743.0</td>\n",
              "      <td>1611.0</td>\n",
              "      <td>1019.0</td>\n",
              "    </tr>\n",
              "    <tr>\n",
              "      <th>4</th>\n",
              "      <td>063319de25ce7edb9b1c6b8881290140</td>\n",
              "      <td>No finding</td>\n",
              "      <td>14.0</td>\n",
              "      <td>R10</td>\n",
              "      <td>NaN</td>\n",
              "      <td>NaN</td>\n",
              "      <td>NaN</td>\n",
              "      <td>NaN</td>\n",
              "    </tr>\n",
              "    <tr>\n",
              "      <th>...</th>\n",
              "      <td>...</td>\n",
              "      <td>...</td>\n",
              "      <td>...</td>\n",
              "      <td>...</td>\n",
              "      <td>...</td>\n",
              "      <td>...</td>\n",
              "      <td>...</td>\n",
              "      <td>...</td>\n",
              "    </tr>\n",
              "    <tr>\n",
              "      <th>61247</th>\n",
              "      <td>571ffeb5344b749ef4e99c75b8449a86</td>\n",
              "      <td>Nodule/Mass</td>\n",
              "      <td>8.0</td>\n",
              "      <td>R9</td>\n",
              "      <td>1723.0</td>\n",
              "      <td>849.0</td>\n",
              "      <td>1795.0</td>\n",
              "      <td>943.0</td>\n",
              "    </tr>\n",
              "    <tr>\n",
              "      <th>61248</th>\n",
              "      <td>5e194561328ca9c3336e33297698d21f</td>\n",
              "      <td>No finding</td>\n",
              "      <td>14.0</td>\n",
              "      <td>R11</td>\n",
              "      <td>NaN</td>\n",
              "      <td>NaN</td>\n",
              "      <td>NaN</td>\n",
              "      <td>NaN</td>\n",
              "    </tr>\n",
              "    <tr>\n",
              "      <th>61249</th>\n",
              "      <td>d8d873b275543b0d2d894958e37f09ec</td>\n",
              "      <td>No finding</td>\n",
              "      <td>14.0</td>\n",
              "      <td>R4</td>\n",
              "      <td>NaN</td>\n",
              "      <td>NaN</td>\n",
              "      <td>NaN</td>\n",
              "      <td>NaN</td>\n",
              "    </tr>\n",
              "    <tr>\n",
              "      <th>61250</th>\n",
              "      <td>30cf440566432d0f579a2a10bb3f3bf3</td>\n",
              "      <td>Pleural thickening</td>\n",
              "      <td>11.0</td>\n",
              "      <td>R10</td>\n",
              "      <td>198.0</td>\n",
              "      <td>1292.0</td>\n",
              "      <td>341.0</td>\n",
              "      <td>1497.0</td>\n",
              "    </tr>\n",
              "    <tr>\n",
              "      <th>61251</th>\n",
              "      <td>4f55eff35e0c1</td>\n",
              "      <td>NaN</td>\n",
              "      <td>NaN</td>\n",
              "      <td>NaN</td>\n",
              "      <td>NaN</td>\n",
              "      <td>NaN</td>\n",
              "      <td>NaN</td>\n",
              "      <td>NaN</td>\n",
              "    </tr>\n",
              "  </tbody>\n",
              "</table>\n",
              "<p>61252 rows × 8 columns</p>\n",
              "</div>"
            ],
            "text/plain": [
              "                               image_id          class_name  ...   x_max   y_max\n",
              "0      50a418190bc3fb1ef1633bf9678929b3          No finding  ...     NaN     NaN\n",
              "1      21a10246a5ec7af151081d0cd6d65dc9          No finding  ...     NaN     NaN\n",
              "2      9a5094b2563a1ef3ff50dc5c7ff71345        Cardiomegaly  ...  1653.0  1831.0\n",
              "3      051132a778e61a86eb147c7c6f564dfe  Aortic enlargement  ...  1611.0  1019.0\n",
              "4      063319de25ce7edb9b1c6b8881290140          No finding  ...     NaN     NaN\n",
              "...                                 ...                 ...  ...     ...     ...\n",
              "61247  571ffeb5344b749ef4e99c75b8449a86         Nodule/Mass  ...  1795.0   943.0\n",
              "61248  5e194561328ca9c3336e33297698d21f          No finding  ...     NaN     NaN\n",
              "61249  d8d873b275543b0d2d894958e37f09ec          No finding  ...     NaN     NaN\n",
              "61250  30cf440566432d0f579a2a10bb3f3bf3  Pleural thickening  ...   341.0  1497.0\n",
              "61251                     4f55eff35e0c1                 NaN  ...     NaN     NaN\n",
              "\n",
              "[61252 rows x 8 columns]"
            ]
          },
          "metadata": {
            "tags": []
          },
          "execution_count": 3
        }
      ]
    },
    {
      "cell_type": "code",
      "metadata": {
        "id": "simplified-doctor",
        "outputId": "d9fcd58c-30b1-41cc-fa4f-1134158c32e5",
        "colab": {
          "base_uri": "https://localhost:8080/"
        }
      },
      "source": [
        "train_csv.info()"
      ],
      "id": "simplified-doctor",
      "execution_count": 4,
      "outputs": [
        {
          "output_type": "stream",
          "text": [
            "<class 'pandas.core.frame.DataFrame'>\n",
            "RangeIndex: 61252 entries, 0 to 61251\n",
            "Data columns (total 8 columns):\n",
            " #   Column      Non-Null Count  Dtype  \n",
            "---  ------      --------------  -----  \n",
            " 0   image_id    61252 non-null  object \n",
            " 1   class_name  61251 non-null  object \n",
            " 2   class_id    61251 non-null  float64\n",
            " 3   rad_id      61251 non-null  object \n",
            " 4   x_min       32532 non-null  float64\n",
            " 5   y_min       32532 non-null  float64\n",
            " 6   x_max       32532 non-null  float64\n",
            " 7   y_max       32532 non-null  float64\n",
            "dtypes: float64(5), object(3)\n",
            "memory usage: 3.7+ MB\n"
          ],
          "name": "stdout"
        }
      ]
    },
    {
      "cell_type": "code",
      "metadata": {
        "id": "rough-practice",
        "outputId": "1bb5d958-cf6a-498f-f2f6-ea151a8c0031",
        "colab": {
          "base_uri": "https://localhost:8080/",
          "height": 539
        }
      },
      "source": [
        "# Plot occurrence of each class\n",
        "xticks = range(15)\n",
        "ax = train_csv.groupby('class_id').count().image_id.plot(colormap='jet', \n",
        "                                                         kind='bar', \n",
        "                                                         figsize=(20,10), \n",
        "                                                         xlabel='Class ID', \n",
        "                                                         ylabel='Occurrence', \n",
        "                                                         title='Number of Images Labelled Per Class in Training Set', \n",
        "                                                         fontsize=10,\n",
        "                                                         xticks=xticks)\n",
        "                                                      "
      ],
      "id": "rough-practice",
      "execution_count": 8,
      "outputs": [
        {
          "output_type": "display_data",
          "data": {
            "image/png": "[encoded data removed]",
            "text/plain": [
              "<Figure size 1440x720 with 1 Axes>"
            ]
          },
          "metadata": {
            "tags": [],
            "needs_background": "light"
          }
        }
      ]
    },
    {
      "cell_type": "code",
      "metadata": {
        "id": "attended-trader",
        "outputId": "607fe652-1aa1-4885-9322-e0a878463a70",
        "colab": {
          "base_uri": "https://localhost:8080/",
          "height": 539
        }
      },
      "source": [
        "rad_count = train_csv.groupby('rad_id').count().image_id\n",
        "new_index = [int(val[1:]) for val in rad_count.index.to_list()]\n",
        "rad_count.index = new_index\n",
        "rad_count = rad_count.sort_index()\n",
        "\n",
        "# Plot occurrence of each radiologist\n",
        "ax2 = rad_count.plot(colormap='jet',  kind='bar', \n",
        "                                      figsize=(20,10),\n",
        "                                      xlabel='Radiologist ID',\n",
        "                                      ylabel='Occurrence',\n",
        "                                      title='Number of Images Labelled Per Radiologist in Training Set',\n",
        "                                      fontsize=10)"
      ],
      "id": "attended-trader",
      "execution_count": 31,
      "outputs": [
        {
          "output_type": "display_data",
          "data": {
            "image/png": "[encoded data removed]",
            "text/plain": [
              "<Figure size 1440x720 with 1 Axes>"
            ]
          },
          "metadata": {
            "tags": [],
            "needs_background": "light"
          }
        }
      ]
    },
    {
      "cell_type": "code",
      "metadata": {
        "id": "canadian-inspection"
      },
      "source": [
        ""
      ],
      "id": "canadian-inspection",
      "execution_count": null,
      "outputs": []
    }
  ]
}