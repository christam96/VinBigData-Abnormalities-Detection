{
  "nbformat": 4,
  "nbformat_minor": 0,
  "metadata": {
    "kernelspec": {
      "display_name": "Python 3",
      "language": "python",
      "name": "python3"
    },
    "language_info": {
      "codemirror_mode": {
        "name": "ipython",
        "version": 3
      },
      "file_extension": ".py",
      "mimetype": "text/x-python",
      "name": "python",
      "nbconvert_exporter": "python",
      "pygments_lexer": "ipython3",
      "version": "3.7.4"
    },
    "colab": {
      "name": "PCA_NN_Assignment_Blank_.ipynb",
      "provenance": [],
      "include_colab_link": true
    }
  },
  "cells": [
    {
      "cell_type": "markdown",
      "metadata": {
        "id": "view-in-github",
        "colab_type": "text"
      },
      "source": [
        "<a href=\"https://colab.research.google.com/github/christam96/VinBigData-Abnormalities-Detection/blob/master/Assignment/PCA_NN_Assignment_Blank_.ipynb\" target=\"_parent\"><img src=\"https://colab.research.google.com/assets/colab-badge.svg\" alt=\"Open In Colab\"/></a>"
      ]
    },
    {
      "cell_type": "markdown",
      "metadata": {
        "id": "8EcZduzMKX0Z"
      },
      "source": [
        "<h1>Unit 05 - Advanced Neural Network Topics</h1>\n",
        "<p>In the previous assignment you were introduced to neural networks and used them for a basic classification and regression task. In this assignment you will explore advanced architectures and use cases to broaden you knowledge and skills of neural networks. </p>"
      ]
    },
    {
      "cell_type": "markdown",
      "metadata": {
        "id": "6WwMj9Z3KX0t"
      },
      "source": [
        "<h1>Part A - Imports and Data Prep</h1>\n",
        "<p>All required imports have been made for you.</p>"
      ]
    },
    {
      "cell_type": "code",
      "metadata": {
        "id": "0Qw7awKuKX0w"
      },
      "source": [
        "import pandas as pd\n",
        "import numpy as np\n",
        "import matplotlib.pyplot as plt\n",
        "import seaborn as sns\n",
        "from sklearn.datasets import load_wine\n",
        "from keras.models import Sequential\n",
        "from keras.layers import Dense\n",
        "from sklearn.preprocessing import MinMaxScaler\n",
        "from numpy.random import normal\n",
        "from tensorflow.keras.datasets.mnist import load_data"
      ],
      "execution_count": 1,
      "outputs": []
    },
    {
      "cell_type": "markdown",
      "metadata": {
        "id": "IqPm4UUcKX0y"
      },
      "source": [
        "<h1>Part B - Dimensionality Reduction</h1>\n",
        "<p>The autoencoder serves many purposes, including dimensionality reduction, de-noising, and anomaly detection.</p>\n",
        "<p>To show how the autoencoder can perform dimensionality reduction we will use the sklearn wine dataset. Build an autoencoder with one hidden layer to reduce the dimensionality of the feature dataset by 6 features. Use an appropriate activation function and train your encoder for 750 epochs. Visualize the distribution of the difference difference between output and input. </p>\n",
        "<p> Repeat this for a reduction of the original data by 4 features.</p>\n",
        "<p>Next you will examine how stacked autoencoders work, repeat the previous but this time increase the number of hidden layers from 1 to 2. Note, these hidden layers should be identical in terms of number of neurons and activation functions.</p>"
      ]
    },
    {
      "cell_type": "markdown",
      "metadata": {
        "id": "pxEHjzy0WwHN"
      },
      "source": [
        "## EDA"
      ]
    },
    {
      "cell_type": "code",
      "metadata": {
        "colab": {
          "base_uri": "https://localhost:8080/",
          "height": 258
        },
        "id": "sS5tav9kKX0z",
        "outputId": "68e3d555-bdee-437b-ccc0-16680e67c8c8"
      },
      "source": [
        "data = load_wine(return_X_y=False)\n",
        "\n",
        "f_names = data.feature_names \n",
        "print(\"Feature names: \", f_names)\n",
        "t_names = data.target_names\n",
        "print(\"Target names: \", t_names)\n",
        "data_df = pd.DataFrame(data.data)\n",
        "data_df.columns = f_names\n",
        "data_df.head()"
      ],
      "execution_count": 2,
      "outputs": [
        {
          "output_type": "stream",
          "text": [
            "Feature names:  ['alcohol', 'malic_acid', 'ash', 'alcalinity_of_ash', 'magnesium', 'total_phenols', 'flavanoids', 'nonflavanoid_phenols', 'proanthocyanins', 'color_intensity', 'hue', 'od280/od315_of_diluted_wines', 'proline']\n",
            "Target names:  ['class_0' 'class_1' 'class_2']\n"
          ],
          "name": "stdout"
        },
        {
          "output_type": "execute_result",
          "data": {
            "text/html": [
              "<div>\n",
              "<style scoped>\n",
              "    .dataframe tbody tr th:only-of-type {\n",
              "        vertical-align: middle;\n",
              "    }\n",
              "\n",
              "    .dataframe tbody tr th {\n",
              "        vertical-align: top;\n",
              "    }\n",
              "\n",
              "    .dataframe thead th {\n",
              "        text-align: right;\n",
              "    }\n",
              "</style>\n",
              "<table border=\"1\" class=\"dataframe\">\n",
              "  <thead>\n",
              "    <tr style=\"text-align: right;\">\n",
              "      <th></th>\n",
              "      <th>alcohol</th>\n",
              "      <th>malic_acid</th>\n",
              "      <th>ash</th>\n",
              "      <th>alcalinity_of_ash</th>\n",
              "      <th>magnesium</th>\n",
              "      <th>total_phenols</th>\n",
              "      <th>flavanoids</th>\n",
              "      <th>nonflavanoid_phenols</th>\n",
              "      <th>proanthocyanins</th>\n",
              "      <th>color_intensity</th>\n",
              "      <th>hue</th>\n",
              "      <th>od280/od315_of_diluted_wines</th>\n",
              "      <th>proline</th>\n",
              "    </tr>\n",
              "  </thead>\n",
              "  <tbody>\n",
              "    <tr>\n",
              "      <th>0</th>\n",
              "      <td>14.23</td>\n",
              "      <td>1.71</td>\n",
              "      <td>2.43</td>\n",
              "      <td>15.6</td>\n",
              "      <td>127.0</td>\n",
              "      <td>2.80</td>\n",
              "      <td>3.06</td>\n",
              "      <td>0.28</td>\n",
              "      <td>2.29</td>\n",
              "      <td>5.64</td>\n",
              "      <td>1.04</td>\n",
              "      <td>3.92</td>\n",
              "      <td>1065.0</td>\n",
              "    </tr>\n",
              "    <tr>\n",
              "      <th>1</th>\n",
              "      <td>13.20</td>\n",
              "      <td>1.78</td>\n",
              "      <td>2.14</td>\n",
              "      <td>11.2</td>\n",
              "      <td>100.0</td>\n",
              "      <td>2.65</td>\n",
              "      <td>2.76</td>\n",
              "      <td>0.26</td>\n",
              "      <td>1.28</td>\n",
              "      <td>4.38</td>\n",
              "      <td>1.05</td>\n",
              "      <td>3.40</td>\n",
              "      <td>1050.0</td>\n",
              "    </tr>\n",
              "    <tr>\n",
              "      <th>2</th>\n",
              "      <td>13.16</td>\n",
              "      <td>2.36</td>\n",
              "      <td>2.67</td>\n",
              "      <td>18.6</td>\n",
              "      <td>101.0</td>\n",
              "      <td>2.80</td>\n",
              "      <td>3.24</td>\n",
              "      <td>0.30</td>\n",
              "      <td>2.81</td>\n",
              "      <td>5.68</td>\n",
              "      <td>1.03</td>\n",
              "      <td>3.17</td>\n",
              "      <td>1185.0</td>\n",
              "    </tr>\n",
              "    <tr>\n",
              "      <th>3</th>\n",
              "      <td>14.37</td>\n",
              "      <td>1.95</td>\n",
              "      <td>2.50</td>\n",
              "      <td>16.8</td>\n",
              "      <td>113.0</td>\n",
              "      <td>3.85</td>\n",
              "      <td>3.49</td>\n",
              "      <td>0.24</td>\n",
              "      <td>2.18</td>\n",
              "      <td>7.80</td>\n",
              "      <td>0.86</td>\n",
              "      <td>3.45</td>\n",
              "      <td>1480.0</td>\n",
              "    </tr>\n",
              "    <tr>\n",
              "      <th>4</th>\n",
              "      <td>13.24</td>\n",
              "      <td>2.59</td>\n",
              "      <td>2.87</td>\n",
              "      <td>21.0</td>\n",
              "      <td>118.0</td>\n",
              "      <td>2.80</td>\n",
              "      <td>2.69</td>\n",
              "      <td>0.39</td>\n",
              "      <td>1.82</td>\n",
              "      <td>4.32</td>\n",
              "      <td>1.04</td>\n",
              "      <td>2.93</td>\n",
              "      <td>735.0</td>\n",
              "    </tr>\n",
              "  </tbody>\n",
              "</table>\n",
              "</div>"
            ],
            "text/plain": [
              "   alcohol  malic_acid   ash  ...   hue  od280/od315_of_diluted_wines  proline\n",
              "0    14.23        1.71  2.43  ...  1.04                          3.92   1065.0\n",
              "1    13.20        1.78  2.14  ...  1.05                          3.40   1050.0\n",
              "2    13.16        2.36  2.67  ...  1.03                          3.17   1185.0\n",
              "3    14.37        1.95  2.50  ...  0.86                          3.45   1480.0\n",
              "4    13.24        2.59  2.87  ...  1.04                          2.93    735.0\n",
              "\n",
              "[5 rows x 13 columns]"
            ]
          },
          "metadata": {
            "tags": []
          },
          "execution_count": 2
        }
      ]
    },
    {
      "cell_type": "code",
      "metadata": {
        "colab": {
          "base_uri": "https://localhost:8080/"
        },
        "id": "HM0h-3X2XTC7",
        "outputId": "4985b17b-b897-487d-a394-59a419b4acd4"
      },
      "source": [
        "data_df.info()"
      ],
      "execution_count": 3,
      "outputs": [
        {
          "output_type": "stream",
          "text": [
            "<class 'pandas.core.frame.DataFrame'>\n",
            "RangeIndex: 178 entries, 0 to 177\n",
            "Data columns (total 13 columns):\n",
            " #   Column                        Non-Null Count  Dtype  \n",
            "---  ------                        --------------  -----  \n",
            " 0   alcohol                       178 non-null    float64\n",
            " 1   malic_acid                    178 non-null    float64\n",
            " 2   ash                           178 non-null    float64\n",
            " 3   alcalinity_of_ash             178 non-null    float64\n",
            " 4   magnesium                     178 non-null    float64\n",
            " 5   total_phenols                 178 non-null    float64\n",
            " 6   flavanoids                    178 non-null    float64\n",
            " 7   nonflavanoid_phenols          178 non-null    float64\n",
            " 8   proanthocyanins               178 non-null    float64\n",
            " 9   color_intensity               178 non-null    float64\n",
            " 10  hue                           178 non-null    float64\n",
            " 11  od280/od315_of_diluted_wines  178 non-null    float64\n",
            " 12  proline                       178 non-null    float64\n",
            "dtypes: float64(13)\n",
            "memory usage: 18.2 KB\n"
          ],
          "name": "stdout"
        }
      ]
    },
    {
      "cell_type": "markdown",
      "metadata": {
        "id": "QQ7eNug_XflN"
      },
      "source": [
        "## Scale data, build and fit model for the reduction of original data by **6** features"
      ]
    },
    {
      "cell_type": "code",
      "metadata": {
        "id": "26OjfSVPXYfp"
      },
      "source": [
        "scaler = MinMaxScaler()\n",
        "data_df_scaled = scaler.fit_transform(data_df)"
      ],
      "execution_count": 4,
      "outputs": []
    },
    {
      "cell_type": "code",
      "metadata": {
        "colab": {
          "base_uri": "https://localhost:8080/"
        },
        "id": "mswkaoegW05y",
        "outputId": "1af21820-694d-4de8-bba8-0bb9f65c9482"
      },
      "source": [
        "model = Sequential()\n",
        "model.add(Dense(7, input_shape=(13,), activation='relu'))\n",
        "model.add(Dense(13))#, activation='tanh'))\n",
        "model.compile(optimizer = 'SGD', loss='mse')\n",
        "print(model.summary())\n",
        "history = model.fit(data_df_scaled, data_df_scaled, epochs = 750, verbose= 0)"
      ],
      "execution_count": 5,
      "outputs": [
        {
          "output_type": "stream",
          "text": [
            "Model: \"sequential\"\n",
            "_________________________________________________________________\n",
            "Layer (type)                 Output Shape              Param #   \n",
            "=================================================================\n",
            "dense (Dense)                (None, 7)                 98        \n",
            "_________________________________________________________________\n",
            "dense_1 (Dense)              (None, 13)                104       \n",
            "=================================================================\n",
            "Total params: 202\n",
            "Trainable params: 202\n",
            "Non-trainable params: 0\n",
            "_________________________________________________________________\n",
            "None\n"
          ],
          "name": "stdout"
        }
      ]
    },
    {
      "cell_type": "markdown",
      "metadata": {
        "id": "_Q55w5HBXmGj"
      },
      "source": [
        "## Visualize the distribution of the difference difference between output and input while training"
      ]
    },
    {
      "cell_type": "code",
      "metadata": {
        "colab": {
          "base_uri": "https://localhost:8080/",
          "height": 295
        },
        "id": "PKTQhZGxVFr0",
        "outputId": "f1b40f92-e5c2-4278-f2d3-170966ecbcd4"
      },
      "source": [
        "plt.figure()\n",
        "plt.plot(history.history['loss'])\n",
        "plt.title('Model Loss During Training')\n",
        "plt.xlabel('Epoch')\n",
        "plt.ylabel('MSE')\n",
        "plt.show()"
      ],
      "execution_count": 6,
      "outputs": [
        {
          "output_type": "display_data",
          "data": {
            "image/png": "[encoded data removed]",
            "text/plain": [
              "<Figure size 432x288 with 1 Axes>"
            ]
          },
          "metadata": {
            "tags": [],
            "needs_background": "light"
          }
        }
      ]
    },
    {
      "cell_type": "markdown",
      "metadata": {
        "id": "kBoPcXz5Ycwl"
      },
      "source": [
        "## Build and fit model for the reduction of original data by **4** features"
      ]
    },
    {
      "cell_type": "code",
      "metadata": {
        "colab": {
          "base_uri": "https://localhost:8080/"
        },
        "id": "LMZyceO8YgGX",
        "outputId": "9b1d9f46-4745-4463-836a-e2be24d4b14d"
      },
      "source": [
        "model = Sequential()\n",
        "model.add(Dense(9, input_shape=(13,), activation='relu'))\n",
        "model.add(Dense(13))#, activation='tanh'))\n",
        "model.compile(optimizer = 'SGD', loss='mse')\n",
        "print(model.summary())\n",
        "history = model.fit(data_df_scaled, data_df_scaled, epochs = 750, verbose= 0)"
      ],
      "execution_count": 9,
      "outputs": [
        {
          "output_type": "stream",
          "text": [
            "Model: \"sequential_2\"\n",
            "_________________________________________________________________\n",
            "Layer (type)                 Output Shape              Param #   \n",
            "=================================================================\n",
            "dense_4 (Dense)              (None, 9)                 126       \n",
            "_________________________________________________________________\n",
            "dense_5 (Dense)              (None, 13)                130       \n",
            "=================================================================\n",
            "Total params: 256\n",
            "Trainable params: 256\n",
            "Non-trainable params: 0\n",
            "_________________________________________________________________\n",
            "None\n"
          ],
          "name": "stdout"
        }
      ]
    },
    {
      "cell_type": "markdown",
      "metadata": {
        "id": "qzi8iiZOYjtt"
      },
      "source": [
        "## Visualize the distribution of the difference difference between output and input while training"
      ]
    },
    {
      "cell_type": "code",
      "metadata": {
        "colab": {
          "base_uri": "https://localhost:8080/",
          "height": 295
        },
        "id": "Rfg1-EWaYof8",
        "outputId": "80909c08-634b-4a44-fe4e-ba58c3831617"
      },
      "source": [
        "plt.figure()\n",
        "plt.plot(history.history['loss'])\n",
        "plt.title('Model Loss During Training')\n",
        "plt.xlabel('Epoch')\n",
        "plt.ylabel('MSE')\n",
        "plt.show()"
      ],
      "execution_count": 10,
      "outputs": [
        {
          "output_type": "display_data",
          "data": {
            "image/png": "[encoded data removed]",
            "text/plain": [
              "<Figure size 432x288 with 1 Axes>"
            ]
          },
          "metadata": {
            "tags": [],
            "needs_background": "light"
          }
        }
      ]
    },
    {
      "cell_type": "markdown",
      "metadata": {
        "id": "OCetnQZkZZ1Q"
      },
      "source": [
        "## Build and fit model for the reduction of original data by **6** features. **2** hidden layers"
      ]
    },
    {
      "cell_type": "code",
      "metadata": {
        "colab": {
          "base_uri": "https://localhost:8080/"
        },
        "id": "rT2REbIfZhZK",
        "outputId": "897bf112-29d9-47df-8bfb-79bf421336d3"
      },
      "source": [
        "model = Sequential()\n",
        "model.add(Dense(7, input_shape=(13,), activation='relu'))\n",
        "model.add(Dense(7, activation='relu'))\n",
        "model.add(Dense(13))#, activation='tanh'))\n",
        "model.compile(optimizer = 'SGD', loss='mse')\n",
        "print(model.summary())\n",
        "history = model.fit(data_df_scaled, data_df_scaled, epochs = 750, verbose= 0)"
      ],
      "execution_count": 11,
      "outputs": [
        {
          "output_type": "stream",
          "text": [
            "Model: \"sequential_3\"\n",
            "_________________________________________________________________\n",
            "Layer (type)                 Output Shape              Param #   \n",
            "=================================================================\n",
            "dense_6 (Dense)              (None, 7)                 98        \n",
            "_________________________________________________________________\n",
            "dense_7 (Dense)              (None, 7)                 56        \n",
            "_________________________________________________________________\n",
            "dense_8 (Dense)              (None, 13)                104       \n",
            "=================================================================\n",
            "Total params: 258\n",
            "Trainable params: 258\n",
            "Non-trainable params: 0\n",
            "_________________________________________________________________\n",
            "None\n"
          ],
          "name": "stdout"
        }
      ]
    },
    {
      "cell_type": "markdown",
      "metadata": {
        "id": "ANfo22ilZ4L9"
      },
      "source": [
        "## Visualize the distribution of the difference difference between output and input while training"
      ]
    },
    {
      "cell_type": "code",
      "metadata": {
        "colab": {
          "base_uri": "https://localhost:8080/",
          "height": 295
        },
        "id": "moKtcre2Z637",
        "outputId": "bf88a7ae-d5f9-4f28-bb11-0a8744177478"
      },
      "source": [
        "plt.figure()\n",
        "plt.plot(history.history['loss'])\n",
        "plt.title('Model Loss During Training')\n",
        "plt.xlabel('Epoch')\n",
        "plt.ylabel('MSE')\n",
        "plt.show()"
      ],
      "execution_count": 13,
      "outputs": [
        {
          "output_type": "display_data",
          "data": {
            "image/png": "[encoded data removed]",
            "text/plain": [
              "<Figure size 432x288 with 1 Axes>"
            ]
          },
          "metadata": {
            "tags": [],
            "needs_background": "light"
          }
        }
      ]
    },
    {
      "cell_type": "markdown",
      "metadata": {
        "id": "0m5AakhUaJQw"
      },
      "source": [
        "## Build and fit model for the reduction of original data by **4** features. **2** hidden layers"
      ]
    },
    {
      "cell_type": "code",
      "metadata": {
        "colab": {
          "base_uri": "https://localhost:8080/"
        },
        "id": "SFP6zqfUaKPY",
        "outputId": "56751a99-90df-4631-95a0-5f1672b6204a"
      },
      "source": [
        "model = Sequential()\n",
        "model.add(Dense(9, input_shape=(13,), activation='relu'))\n",
        "model.add(Dense(9, activation='relu'))\n",
        "model.add(Dense(13))#, activation='tanh'))\n",
        "model.compile(optimizer = 'SGD', loss='mse')\n",
        "print(model.summary())\n",
        "history = model.fit(data_df_scaled, data_df_scaled, epochs = 750, verbose= 0)"
      ],
      "execution_count": 14,
      "outputs": [
        {
          "output_type": "stream",
          "text": [
            "Model: \"sequential_4\"\n",
            "_________________________________________________________________\n",
            "Layer (type)                 Output Shape              Param #   \n",
            "=================================================================\n",
            "dense_9 (Dense)              (None, 9)                 126       \n",
            "_________________________________________________________________\n",
            "dense_10 (Dense)             (None, 9)                 90        \n",
            "_________________________________________________________________\n",
            "dense_11 (Dense)             (None, 13)                130       \n",
            "=================================================================\n",
            "Total params: 346\n",
            "Trainable params: 346\n",
            "Non-trainable params: 0\n",
            "_________________________________________________________________\n",
            "None\n"
          ],
          "name": "stdout"
        }
      ]
    },
    {
      "cell_type": "markdown",
      "metadata": {
        "id": "YsAe3gRQaPR4"
      },
      "source": [
        "## Visualize the distribution of the difference difference between output and input while training"
      ]
    },
    {
      "cell_type": "code",
      "metadata": {
        "colab": {
          "base_uri": "https://localhost:8080/",
          "height": 295
        },
        "id": "afX2YZ_QaS9J",
        "outputId": "ca053bb8-b001-4364-ca6a-2c86c92c5d8e"
      },
      "source": [
        "plt.figure()\n",
        "plt.plot(history.history['loss'])\n",
        "plt.title('Model Loss During Training')\n",
        "plt.xlabel('Epoch')\n",
        "plt.ylabel('MSE')\n",
        "plt.show()"
      ],
      "execution_count": 15,
      "outputs": [
        {
          "output_type": "display_data",
          "data": {
            "image/png": "[encoded data removed]",
            "text/plain": [
              "<Figure size 432x288 with 1 Axes>"
            ]
          },
          "metadata": {
            "tags": [],
            "needs_background": "light"
          }
        }
      ]
    },
    {
      "cell_type": "markdown",
      "metadata": {
        "id": "hboS7Fb5KX00"
      },
      "source": [
        "<h1>Part C - Noise Reduction</h1>"
      ]
    },
    {
      "cell_type": "markdown",
      "metadata": {
        "id": "SaA-j93JKX01"
      },
      "source": [
        "<p>To illustrate the ability of our autoencoder to reduce noise we will be using image data. Use the load_data function with the path attribute set to \"mnist.npz\". You only care about the image data so you need to extract the images from the imported data and get rid of the labels. Ensure your pixel values are between 0 and 1 and save this to the variable X_2</p>\n",
        "<p> To simulate a noisy image, we will be adding white Gausian noise to the data. To do this, you will need to use the normal function with a mean of 0 and a varience of 0.1. Cycle through the images in X_2, add noise, and save to a variable called X_2_noise. </p>\n",
        "<p>Display the first image in X_2 and the first image in X_2_noise to see the effect of the noise you added</p>"
      ]
    },
    {
      "cell_type": "code",
      "metadata": {
        "id": "OZ8OToUNKX02"
      },
      "source": [
        "dataImg = load_data(\"mnist.npz\")\n"
      ],
      "execution_count": 17,
      "outputs": []
    }
  ]
}